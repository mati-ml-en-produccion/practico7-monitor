{
  "nbformat": 4,
  "nbformat_minor": 0,
  "metadata": {
    "colab": {
      "provenance": [],
      "collapsed_sections": [
        "OzRIkDij1sju"
      ]
    },
    "kernelspec": {
      "name": "python3",
      "display_name": "Python 3"
    },
    "language_info": {
      "name": "python"
    }
  },
  "cells": [
    {
      "cell_type": "markdown",
      "source": [
        "## Logging\n",
        "\n",
        "https://docs.python.org/3/library/logging.html"
      ],
      "metadata": {
        "id": "OzRIkDij1sju"
      }
    },
    {
      "cell_type": "code",
      "source": [
        "from fastapi import FastAPI, HTTPException\n",
        "from fastapi import File, UploadFile\n",
        "from keras.preprocessing import image\n",
        "from keras.models import load_model\n",
        "import numpy as np\n",
        "from PIL import Image\n",
        "import uvicorn\n",
        "import logging\n",
        "\n",
        "\n",
        "logging.basicConfig(filename=\"app.log\", level=logging.INFO)\n",
        "logging.info(\"Starting APP\")\n",
        "\n",
        "\n",
        "app = FastAPI()\n",
        "\n",
        "try:\n",
        "    model = load_model('model.h5')\n",
        "except Exception as e:\n",
        "    logging.info(f\"Error loading model: {e}\")\n",
        "    model = None\n",
        "\n",
        "@app.get(\"/health\")\n",
        "async def health_check():\n",
        "    logging.info(\"Health check endpoint accessed\")\n",
        "    return {\"status\": \"OK\"}\n",
        "\n",
        "\n",
        "@app.post('/predict')\n",
        "async def predict(image_file: UploadFile = File(...)):\n",
        "    if not model:\n",
        "        raise HTTPException(status_code=500, detail=\"Model could not be loaded\")\n",
        "    try:\n",
        "        image = Image.open(image_file.file)\n",
        "        image = np.expand_dims(image, axis=0)\n",
        "    except Exception as e:\n",
        "        raise HTTPException(status_code=400, detail=f\"Error processing image: {e}\")\n",
        "\n",
        "    try:\n",
        "        predictions = model.predict(image)\n",
        "        logging.info(f\"Predictions: {predictions}\")\n",
        "    except Exception as e:\n",
        "\n",
        "        logging.error(f\"Error making prediction: {e}\")\n",
        "        raise HTTPException(status_code=500, detail=f\"Error making prediction: {e}\")\n",
        "\n",
        "    try:\n",
        "        predicted_class = np.argmax(predictions[0])\n",
        "    except Exception as e:\n",
        "        raise HTTPException(status_code=500, detail=f\"Error interpreting prediction: {e}\")\n",
        "\n",
        "    return {\"predicted_class\": int(predicted_class)}\n",
        "\n",
        "if __name__ == \"__main__\":\n",
        "    uvicorn.run(app, host=\"0.0.0.0\", port=80)"
      ],
      "metadata": {
        "id": "Qdz7Fz2V1yVX"
      },
      "execution_count": null,
      "outputs": []
    },
    {
      "cell_type": "markdown",
      "source": [
        "# Data Drift\n",
        "\n",
        "Se refiere al cambio en las relaciones entre los datos de entrada y salida en el problema subyacente a lo largo del tiempo.\n",
        "\n",
        "En otros dominios puede llamarse **“covariate shift,” “dataset shift,” or “nonstationarity.”**"
      ],
      "metadata": {
        "id": "Owdz_0XE2nCc"
      }
    },
    {
      "cell_type": "code",
      "source": [
        "import os\n",
        "import cv2\n",
        "import random\n",
        "import numpy as np\n",
        "import tensorflow as tf\n",
        "import matplotlib.pyplot as plt\n",
        "\n",
        "np.random.seed(1234)\n",
        "random.seed(1234)\n",
        "tf.random.set_seed(1234)"
      ],
      "metadata": {
        "id": "emxFRhSyWYeW"
      },
      "execution_count": 7,
      "outputs": []
    },
    {
      "cell_type": "code",
      "source": [
        "def motion_blur(image, size=5):\n",
        "\n",
        "    kernel_motion_blur = np.zeros((size, size))\n",
        "    kernel_motion_blur[int((size-1)/2), :] = np.ones(size)\n",
        "    kernel_motion_blur = kernel_motion_blur / size\n",
        "\n",
        "    output = cv2.filter2D(image, -1, kernel_motion_blur)\n",
        "    return output"
      ],
      "metadata": {
        "id": "WMVjQq0e2rLM"
      },
      "execution_count": 3,
      "outputs": []
    },
    {
      "cell_type": "code",
      "source": [
        "(X_train, y_train), (X_test, y_test) = tf.keras.datasets.cifar10.load_data()\n",
        "X_train = X_train.astype('float32') / 255\n",
        "X_test = X_test.astype('float32') / 255\n",
        "y_train = y_train.astype('int64').reshape(-1,)\n",
        "y_test = y_test.astype('int64').reshape(-1,)"
      ],
      "metadata": {
        "colab": {
          "base_uri": "https://localhost:8080/"
        },
        "id": "09O1nKluWEnK",
        "outputId": "6bedcb25-9fd7-40be-9dcc-67b041938940"
      },
      "execution_count": 4,
      "outputs": [
        {
          "output_type": "stream",
          "name": "stdout",
          "text": [
            "Downloading data from https://www.cs.toronto.edu/~kriz/cifar-10-python.tar.gz\n",
            "170498071/170498071 [==============================] - 6s 0us/step\n"
          ]
        }
      ]
    },
    {
      "cell_type": "markdown",
      "source": [
        " ### Agreguemos motion-blur con un grado creciente de severidad"
      ],
      "metadata": {
        "id": "gqHmJDx_W2H1"
      }
    },
    {
      "cell_type": "code",
      "source": [
        "X_test_blur_2 = np.array([motion_blur(x, size=2) for x in X_test])\n",
        "X_test_blur_5 = np.array([motion_blur(x, size=5) for x in X_test])\n",
        "X_test_blur_15 = np.array([motion_blur(x, size=15) for x in X_test])"
      ],
      "metadata": {
        "id": "pfkzVwDeWNtq"
      },
      "execution_count": 5,
      "outputs": []
    },
    {
      "cell_type": "code",
      "source": [
        "fig, axs = plt.subplots(1, 4, figsize=(16, 4))\n",
        "axs[0].imshow(X_test[1])\n",
        "axs[0].set_title('Original')\n",
        "axs[1].imshow(X_test_blur_2[1])\n",
        "axs[1].set_title('Motion Blur (size=2)')\n",
        "axs[2].imshow(X_test_blur_5[1])\n",
        "axs[2].set_title('Motion Blur (size=5)')\n",
        "axs[3].imshow(X_test_blur_15[1])\n",
        "axs[3].set_title('Motion Blur (size=15)')"
      ],
      "metadata": {
        "colab": {
          "base_uri": "https://localhost:8080/",
          "height": 370
        },
        "id": "0u7lDda1XEiX",
        "outputId": "1a980749-3df7-4e08-9715-9af80e45f0d3"
      },
      "execution_count": 8,
      "outputs": [
        {
          "output_type": "execute_result",
          "data": {
            "text/plain": [
              "Text(0.5, 1.0, 'Motion Blur (size=15)')"
            ]
          },
          "metadata": {},
          "execution_count": 8
        },
        {
          "output_type": "display_data",
          "data": {
            "text/plain": [
              "<Figure size 1600x400 with 4 Axes>"
            ],
            "image/png": "[encoded data removed]"
          },
          "metadata": {}
        }
      ]
    },
    {
      "cell_type": "markdown",
      "source": [
        "### Demostrando el Model Drift\n",
        "\n",
        "Mostraremos el model drift entrenando una Red Neuronal Convolucional muy simple y ejecutando inferencia tanto en el conjunto de pruebas original como en imágenes perturbadas. Si el modelo es susceptible a la deriva de concepto, esperamos que el rendimiento en el conjunto de pruebas disminuya gradualmente.\n",
        "\n",
        "\n",
        "\n",
        "\n"
      ],
      "metadata": {
        "id": "LS9e9GYaalIn"
      }
    },
    {
      "cell_type": "code",
      "source": [
        "from tensorflow.keras import datasets, layers, models"
      ],
      "metadata": {
        "id": "95nwH8FqXMlt"
      },
      "execution_count": 9,
      "outputs": []
    },
    {
      "cell_type": "code",
      "source": [
        "model = models.Sequential()\n",
        "model.add(layers.Conv2D(32, (3, 3), activation='relu', input_shape=(32, 32, 3)))\n",
        "model.add(layers.MaxPooling2D((2, 2)))\n",
        "model.add(layers.Conv2D(64, (3, 3), activation='relu'))\n",
        "model.add(layers.MaxPooling2D((2, 2)))\n",
        "model.add(layers.Conv2D(64, (3, 3), activation='relu'))\n",
        "model.add(layers.Flatten())\n",
        "model.add(layers.Dense(64, activation='relu'))\n",
        "model.add(layers.Dense(10))"
      ],
      "metadata": {
        "id": "dWw-lrg5bHD3"
      },
      "execution_count": 10,
      "outputs": []
    },
    {
      "cell_type": "code",
      "source": [
        "model.compile(optimizer='adam',\n",
        "              loss=tf.keras.losses.SparseCategoricalCrossentropy(from_logits=True),\n",
        "              metrics=['accuracy'])\n",
        "\n",
        "model.fit(X_train, y_train, epochs=10,\n",
        "          validation_data=(X_test, y_test))"
      ],
      "metadata": {
        "colab": {
          "base_uri": "https://localhost:8080/"
        },
        "id": "ei0qIGp5bJKg",
        "outputId": "9ae477d1-f148-4e33-a143-7fb98b74e474"
      },
      "execution_count": 11,
      "outputs": [
        {
          "output_type": "stream",
          "name": "stdout",
          "text": [
            "Epoch 1/10\n",
            "1563/1563 [==============================] - 91s 57ms/step - loss: 1.4957 - accuracy: 0.4570 - val_loss: 1.2280 - val_accuracy: 0.5634\n",
            "Epoch 2/10\n",
            "1563/1563 [==============================] - 84s 54ms/step - loss: 1.1281 - accuracy: 0.6015 - val_loss: 1.0456 - val_accuracy: 0.6305\n",
            "Epoch 3/10\n",
            "1563/1563 [==============================] - 83s 53ms/step - loss: 0.9750 - accuracy: 0.6585 - val_loss: 0.9667 - val_accuracy: 0.6560\n",
            "Epoch 4/10\n",
            "1563/1563 [==============================] - 82s 52ms/step - loss: 0.8757 - accuracy: 0.6927 - val_loss: 0.9477 - val_accuracy: 0.6700\n",
            "Epoch 5/10\n",
            "1563/1563 [==============================] - 84s 54ms/step - loss: 0.8012 - accuracy: 0.7194 - val_loss: 0.8782 - val_accuracy: 0.6929\n",
            "Epoch 6/10\n",
            "1563/1563 [==============================] - 80s 51ms/step - loss: 0.7449 - accuracy: 0.7384 - val_loss: 0.8911 - val_accuracy: 0.6954\n",
            "Epoch 7/10\n",
            "1563/1563 [==============================] - 79s 50ms/step - loss: 0.6862 - accuracy: 0.7580 - val_loss: 0.9008 - val_accuracy: 0.6913\n",
            "Epoch 8/10\n",
            "1563/1563 [==============================] - 80s 51ms/step - loss: 0.6463 - accuracy: 0.7735 - val_loss: 0.8759 - val_accuracy: 0.7094\n",
            "Epoch 9/10\n",
            "1563/1563 [==============================] - 82s 52ms/step - loss: 0.6052 - accuracy: 0.7865 - val_loss: 0.9604 - val_accuracy: 0.6919\n",
            "Epoch 10/10\n",
            "1563/1563 [==============================] - 80s 51ms/step - loss: 0.5695 - accuracy: 0.8005 - val_loss: 0.8588 - val_accuracy: 0.7132\n"
          ]
        },
        {
          "output_type": "execute_result",
          "data": {
            "text/plain": [
              "<keras.callbacks.History at 0x7fef428f5690>"
            ]
          },
          "metadata": {},
          "execution_count": 11
        }
      ]
    },
    {
      "cell_type": "code",
      "source": [
        "yh = np.argmax(model.predict(X_test), axis=-1)\n",
        "yh_blur_2 = np.argmax(model.predict(X_test_blur_2), axis=-1)\n",
        "yh_blur_5 = np.argmax(model.predict(X_test_blur_5), axis=-1)\n",
        "yh_blur_15 = np.argmax(model.predict(X_test_blur_15), axis=-1)"
      ],
      "metadata": {
        "colab": {
          "base_uri": "https://localhost:8080/"
        },
        "id": "3rrmfUKPbNvh",
        "outputId": "85e6c694-64fa-4b26-d1f9-e3702548a33f"
      },
      "execution_count": 12,
      "outputs": [
        {
          "output_type": "stream",
          "name": "stdout",
          "text": [
            "313/313 [==============================] - 9s 29ms/step\n",
            "313/313 [==============================] - 4s 14ms/step\n",
            "313/313 [==============================] - 6s 18ms/step\n",
            "313/313 [==============================] - 4s 14ms/step\n"
          ]
        }
      ]
    },
    {
      "cell_type": "code",
      "source": [
        "print('Original Accuracy: ' + str(np.sum(y_test == yh) / len(y_test)))\n",
        "print('Blur (size=2) Accuracy: ' + str(np.sum(y_test == yh_blur_2) / len(y_test)))\n",
        "print('Blur (size=5) Accuracy: ' + str(np.sum(y_test == yh_blur_5) / len(y_test)))\n",
        "print('Blur (size=15) Accuracy: ' + str(np.sum(y_test == yh_blur_15) / len(y_test)))"
      ],
      "metadata": {
        "colab": {
          "base_uri": "https://localhost:8080/"
        },
        "id": "7M3ZX_AIc6i9",
        "outputId": "5067e3d3-55d5-4e3f-9a1c-9b54092d7141"
      },
      "execution_count": 13,
      "outputs": [
        {
          "output_type": "stream",
          "name": "stdout",
          "text": [
            "Original Accuracy: 0.7132\n",
            "Blur (size=2) Accuracy: 0.6836\n",
            "Blur (size=5) Accuracy: 0.4866\n",
            "Blur (size=15) Accuracy: 0.2651\n"
          ]
        }
      ]
    },
    {
      "cell_type": "markdown",
      "source": [
        "La precisión del modelo está disminuyendo a medida que introducimos más motion-blur"
      ],
      "metadata": {
        "id": "IHKW_JDIdIBe"
      }
    },
    {
      "cell_type": "code",
      "source": [],
      "metadata": {
        "id": "S3F-mKvOdMiS"
      },
      "execution_count": null,
      "outputs": []
    }
  ]
}